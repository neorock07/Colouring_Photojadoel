{
  "nbformat": 4,
  "nbformat_minor": 0,
  "metadata": {
    "colab": {
      "name": "Euler_method.ipynb",
      "provenance": [],
      "authorship_tag": "ABX9TyPdhQh6NIY2tvSlghbpwaW7",
      "include_colab_link": true
    },
    "kernelspec": {
      "name": "python3",
      "display_name": "Python 3"
    },
    "language_info": {
      "name": "python"
    }
  },
  "cells": [
    {
      "cell_type": "markdown",
      "metadata": {
        "id": "view-in-github",
        "colab_type": "text"
      },
      "source": [
        "<a href=\"https://colab.research.google.com/github/neorock07/Colouring_Photojadoel/blob/main/Euler_method.ipynb\" target=\"_parent\"><img src=\"https://colab.research.google.com/assets/colab-badge.svg\" alt=\"Open In Colab\"/></a>"
      ]
    },
    {
      "cell_type": "code",
      "execution_count": 16,
      "metadata": {
        "id": "uOgz_06c80h3"
      },
      "outputs": [],
      "source": [
        "f_x_y = []\n",
        "x_Arr = []\n",
        "y_Arr = []\n",
        "\n",
        "def Pow(a, b):\n",
        "  hasil = a\n",
        "  for i in range(0, b):\n",
        "    hasil *= a\n",
        "  return hasil\n",
        "\n",
        "def Euler(x0, y0, h, n):\n",
        "  for i in range(0, n):\n",
        "    y = y0 + h*(3*Pow(x0, 2) + 5*(x0) + y0)\n",
        "    print(\"y({:.2f}) = {:.2f}\".format(x0, y))\n",
        "    x_Arr.append(x0)\n",
        "    y_Arr.append(y)\n",
        "    x0 += h\n",
        "    y0 = y\n",
        "\n"
      ]
    },
    {
      "cell_type": "code",
      "source": [
        "Euler(1, 1, 0.1, 30)"
      ],
      "metadata": {
        "colab": {
          "base_uri": "https://localhost:8080/"
        },
        "id": "zVU1xlucMcT4",
        "outputId": "e9db7fa5-17c7-4555-a4c2-9ec832246b36"
      },
      "execution_count": 17,
      "outputs": [
        {
          "output_type": "stream",
          "name": "stdout",
          "text": [
            "y(1.00) = 1.90\n",
            "y(1.10) = 3.04\n",
            "y(1.20) = 4.46\n",
            "y(1.30) = 6.22\n",
            "y(1.40) = 8.36\n",
            "y(1.50) = 10.96\n",
            "y(1.60) = 14.09\n",
            "y(1.70) = 17.82\n",
            "y(1.80) = 22.25\n",
            "y(1.90) = 27.48\n",
            "y(2.00) = 33.63\n",
            "y(2.10) = 40.82\n",
            "y(2.20) = 49.20\n",
            "y(2.30) = 58.92\n",
            "y(2.40) = 70.16\n",
            "y(2.50) = 83.11\n",
            "y(2.60) = 97.99\n",
            "y(2.70) = 115.05\n",
            "y(2.80) = 134.54\n",
            "y(2.90) = 156.76\n",
            "y(3.00) = 182.03\n",
            "y(3.10) = 210.73\n",
            "y(3.20) = 243.23\n",
            "y(3.30) = 279.98\n",
            "y(3.40) = 321.47\n",
            "y(3.50) = 368.23\n",
            "y(3.60) = 420.85\n",
            "y(3.70) = 479.98\n",
            "y(3.80) = 546.34\n",
            "y(3.90) = 620.72\n"
          ]
        }
      ]
    },
    {
      "cell_type": "code",
      "source": [
        "import matplotlib.pyplot as plt\n",
        "%matplotlib inline\n",
        "\n",
        "plt.plot(x_Arr, y_Arr)\n",
        "plt.title(\"Euler\")\n",
        "plt.xlabel(\"X\")\n",
        "plt.ylabel(\"y\")\n",
        "plt.show()"
      ],
      "metadata": {
        "colab": {
          "base_uri": "https://localhost:8080/",
          "height": 295
        },
        "id": "2ZO7917gNgNl",
        "outputId": "d15c8f07-de8c-4a24-cc96-477a83ae24cb"
      },
      "execution_count": 18,
      "outputs": [
        {
          "output_type": "display_data",
          "data": {
            "text/plain": [
              "<Figure size 432x288 with 1 Axes>"
            ],
            "image/png": "[encoded data removed]"
          },
          "metadata": {
            "needs_background": "light"
          }
        }
      ]
    },
    {
      "cell_type": "code",
      "source": [
        ""
      ],
      "metadata": {
        "id": "25K_eCX4N3pb"
      },
      "execution_count": null,
      "outputs": []
    }
  ]
}