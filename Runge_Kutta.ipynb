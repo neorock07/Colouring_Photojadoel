{
  "nbformat": 4,
  "nbformat_minor": 0,
  "metadata": {
    "colab": {
      "name": "Runge Kutta_Kenia.ipynb",
      "provenance": [],
      "collapsed_sections": [],
      "authorship_tag": "ABX9TyMddxXvvLU/aDznlvzQiHtU",
      "include_colab_link": true
    },
    "kernelspec": {
      "name": "python3",
      "display_name": "Python 3"
    },
    "language_info": {
      "name": "python"
    }
  },
  "cells": [
    {
      "cell_type": "markdown",
      "metadata": {
        "id": "view-in-github",
        "colab_type": "text"
      },
      "source": [
        "<a href=\"https://colab.research.google.com/github/neorock07/Colouring_Photojadoel/blob/main/Runge_Kutta.ipynb\" target=\"_parent\"><img src=\"https://colab.research.google.com/assets/colab-badge.svg\" alt=\"Open In Colab\"/></a>"
      ]
    },
    {
      "cell_type": "code",
      "execution_count": 1,
      "metadata": {
        "id": "WZk8lGg8NMRm"
      },
      "outputs": [],
      "source": [
        "#inisiasi variable yg dipakai\n",
        "f_x_y = [0, 0] #buat list yg nanti digunakan untuk menampung nilai f(xi, yi) hasil dari update nilai saat iterasi\n",
        "k1 = 0 #inisiasi k1\n",
        "k2 = 0 #inisiasi k2\n",
        "k3 = 0 #inisiasi k3\n",
        "k4 = 0 #inisiasi k4\n",
        "\n",
        "# formula --> f(x, y) = 2y + 23x\n",
        "# f(0, 8)\n",
        "\n",
        "#membuat fungsi yg runge_kutta yg nanti menghitung x, y\n",
        "def Runge_Kutta(x0, y0, h, n): #x0, y0, h sebagai argumen, jd user bisa input nilai x, y, h manual\n",
        "  for i in range(0, n): #iterasi 20 kali\n",
        "    k1 = 2*(y0) + 23*(x0) # menghitung nilai k1\n",
        "    #update x0, y0\n",
        "    f_x_y[0] = (x0 + 0.5*h) #menampung nilai f(xi) pd k2 \n",
        "    f_x_y[1] = (y0 + 0.5*k1*h)#menampung nilai f(yi) pd k2\n",
        "    k2 = 2*(f_x_y[1]) + 23*(f_x_y[0]) #menghitung k2\n",
        "    #update x0, y0\n",
        "    f_x_y[0] = (x0 + 0.5*h)#menampung nilai f(xi) pd k3 \n",
        "    f_x_y[1] = (y0 + 0.5*k2*h)#menampung nilai f(yi) pd k3\n",
        "    k3 = 2*(f_x_y[1]) + 23*(f_x_y[0])#menghitung k3\n",
        "    #update x0, y0\n",
        "    f_x_y[0] = (x0 + h)#menampung nilai f(xi) pd k4\n",
        "    f_x_y[1] = (y0 + k3*h)#menampung nilai f(yi) pd k4\n",
        "    k4 = 2*(f_x_y[1]) + 23*(f_x_y[0])#menghitung k4\n",
        "    y = y0 + (h/6*(k1 + 2*k2 + 2*k3 + k4)) #menghitung nilai yi baru\n",
        "    print(\"y\",(i+1),\" = \",y) #menampilkan hasil perhitungan yi\n",
        "    x0 += h #update nilai x0 jd x0+h\n",
        "    y0 = y #update nilai y0 jd yi\n",
        "    #kembali ke proses awal lagi sampai n kali\n",
        "    "
      ]
    },
    {
      "cell_type": "code",
      "source": [
        "# silahkan ganti bagian ini dengan parameter :: x, y, step_size, iterasi\n",
        "Runge_Kutta(0, 8, 0.05, 40)"
      ],
      "metadata": {
        "id": "nXwRYWcQNWfL",
        "colab": {
          "base_uri": "https://localhost:8080/"
        },
        "outputId": "40146e31-4bca-44ae-bdc1-b78af1256fe0"
      },
      "execution_count": 3,
      "outputs": [
        {
          "output_type": "stream",
          "name": "stdout",
          "text": [
            "y 1  =  8.871098958333333\n",
            "y 2  =  9.894285349197048\n",
            "y 3  =  11.085554334609892\n",
            "y 4  =  12.462583301109426\n",
            "y 5  =  14.044908780706521\n",
            "y 6  =  15.854121978764077\n",
            "y 7  =  17.91408486570568\n",
            "y 8  =  20.25116899526933\n",
            "y 9  =  22.89451943947597\n",
            "y 10  =  25.876346481858526\n",
            "y 11  =  29.232247988310988\n",
            "y 12  =  33.001565681948314\n",
            "y 13  =  37.22777888769022\n",
            "y 14  =  41.95893968729101\n",
            "y 15  =  47.24815383998647\n",
            "y 16  =  53.15411228196605\n",
            "y 17  =  59.74167852408732\n",
            "y 18  =  67.08253782669769\n",
            "y 19  =  75.255914648713\n",
            "y 20  =  84.34936555141368\n",
            "y 21  =  94.45965549259381\n",
            "y 22  =  105.69372628129615\n",
            "y 23  =  118.16976688573864\n",
            "y 24  =  132.01839630641751\n",
            "y 25  =  147.38397085296037\n",
            "y 26  =  164.42602890837526\n",
            "y 27  =  183.32088764035984\n",
            "y 28  =  204.26340764006952\n",
            "y 29  =  227.46894314941534\n",
            "y 30  =  253.17549739539197\n",
            "y 31  =  281.6461046027132\n",
            "y 32  =  313.17146252470104\n",
            "y 33  =  348.0728418396426\n",
            "y 34  =  386.705301530786\n",
            "y 35  =  429.4612424305301\n",
            "y 36  =  476.7743344938176\n",
            "y 37  =  529.1238571061444\n",
            "y 38  =  587.0394958653785\n",
            "y 39  =  651.1066438451203\n",
            "y 40  =  721.9722603963481\n"
          ]
        }
      ]
    },
    {
      "cell_type": "code",
      "source": [
        ""
      ],
      "metadata": {
        "id": "tKMdI1ZAswm3"
      },
      "execution_count": null,
      "outputs": []
    }
  ]
}